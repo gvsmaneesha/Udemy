{
 "cells": [
  {
   "cell_type": "code",
   "execution_count": 158,
   "metadata": {},
   "outputs": [
    {
     "name": "stdout",
     "output_type": "stream",
     "text": [
      "['https://onewww.w3schools.com ']\n",
      "['https://onewww.w3schools.com for ']\n"
     ]
    }
   ],
   "source": [
    "# meta characters -->[] . ^ $ * + ? {} () \\ |\n",
    "#[] ex:[abc]-->matches with all the string that contains a or b or c\n",
    "#{atleast,atmost} count of pattern matches\n",
    "#() - Group sub pattern matching\n",
    "#.. represents no. of characters\n",
    "#$ end with character\n",
    "#* - o or more characters\n",
    "#.* matches are all character later on\n",
    "#+ indicates 1 or more\n",
    "#? 0 or 1\n",
    "#| or (a|b)\n",
    "import re\n",
    "\n",
    "str = \"The Website name is https://onewww.w3schools.com for everyone\"\n",
    "\n",
    "#1. returns list of values that are found in the string\n",
    "\n",
    "x = re.findall(\"(https.*?\\s)\", str)\n",
    "print(x)\n",
    "\n",
    "x = re.findall(\"(http.*\\s)\", str)\n",
    "print(x)\n",
    "\n"
   ]
  },
  {
   "cell_type": "code",
   "execution_count": 101,
   "metadata": {},
   "outputs": [
    {
     "name": "stdout",
     "output_type": "stream",
     "text": [
      "['ab', 'ys']\n"
     ]
    }
   ],
   "source": [
    "#2.search will return the reuslt with match items --> starting with a ending with s and sequence of 5 \n",
    "txt = \"abyss\"\n",
    "x = re.findall(\"..\", txt)\n",
    "print(x)"
   ]
  },
  {
   "cell_type": "code",
   "execution_count": 72,
   "metadata": {},
   "outputs": [
    {
     "name": "stdout",
     "output_type": "stream",
     "text": [
      "['weewwef ', ' The rain in Spain']\n",
      "['The', 'Website name is https://www.w3schools.com for everyone']\n"
     ]
    }
   ],
   "source": [
    "txt = \"weewwef https:// The rain in Spain\"\n",
    "x = re.split(\"https://\", txt)\n",
    "print(x)\n",
    "\n",
    "txt = \"weewwef https:// The rain in Spain\"\n",
    "\n",
    "#split by character into r\n",
    "x = re.split(\"\\s\", str, 1)\n",
    "print(x)"
   ]
  },
  {
   "cell_type": "code",
   "execution_count": 14,
   "metadata": {},
   "outputs": [
    {
     "name": "stdout",
     "output_type": "stream",
     "text": [
      "The rain $:\\ in Spain\n"
     ]
    }
   ],
   "source": [
    "str = \"The rain https:\\\\ in Spain\"\n",
    "x = re.sub(\"https\", \"$\", str)\n",
    "#replace every occurence\n",
    "print(x)"
   ]
  },
  {
   "cell_type": "code",
   "execution_count": 16,
   "metadata": {},
   "outputs": [
    {
     "name": "stdout",
     "output_type": "stream",
     "text": [
      "The rain 9:\\ in Spain 9:\\ https:\\\n"
     ]
    }
   ],
   "source": [
    "import re\n",
    "\n",
    "#replace every first 2 occurences\n",
    "\n",
    "str = \"The rain https:\\\\ in Spain https:\\\\ https:\\\\\"\n",
    "x = re.sub(\"https\", \"9\", str, 2)\n",
    "print(x)"
   ]
  },
  {
   "cell_type": "code",
   "execution_count": 35,
   "metadata": {},
   "outputs": [
    {
     "ename": "AttributeError",
     "evalue": "'NoneType' object has no attribute 'string'",
     "output_type": "error",
     "traceback": [
      "\u001b[0;31m---------------------------------------------------------------------------\u001b[0m",
      "\u001b[0;31mAttributeError\u001b[0m                            Traceback (most recent call last)",
      "\u001b[0;32m<ipython-input-35-0eb9cdea2c9a>\u001b[0m in \u001b[0;36m<module>\u001b[0;34m\u001b[0m\n\u001b[1;32m      3\u001b[0m \u001b[0mtxt\u001b[0m \u001b[0;34m=\u001b[0m \u001b[0;34m\"weewwef https:// The rain in Spain\"\u001b[0m\u001b[0;34m\u001b[0m\u001b[0m\n\u001b[1;32m      4\u001b[0m \u001b[0mx\u001b[0m \u001b[0;34m=\u001b[0m \u001b[0mre\u001b[0m\u001b[0;34m.\u001b[0m\u001b[0msearch\u001b[0m\u001b[0;34m(\u001b[0m\u001b[0;34mr\".*^https\"\u001b[0m\u001b[0;34m,\u001b[0m \u001b[0mtxt\u001b[0m\u001b[0;34m)\u001b[0m\u001b[0;34m\u001b[0m\u001b[0m\n\u001b[0;32m----> 5\u001b[0;31m \u001b[0mprint\u001b[0m\u001b[0;34m(\u001b[0m\u001b[0mx\u001b[0m\u001b[0;34m.\u001b[0m\u001b[0mstring\u001b[0m\u001b[0;34m)\u001b[0m\u001b[0;34m\u001b[0m\u001b[0m\n\u001b[0m",
      "\u001b[0;31mAttributeError\u001b[0m: 'NoneType' object has no attribute 'string'"
     ]
    }
   ],
   "source": [
    "import re\n",
    "\n",
    "txt = \"weewwef https:// The rain in Spain\"\n",
    "x = re.search(r\".*^https\", txt)\n",
    "print(x.string)"
   ]
  },
  {
   "cell_type": "code",
   "execution_count": null,
   "metadata": {},
   "outputs": [],
   "source": []
  }
 ],
 "metadata": {
  "kernelspec": {
   "display_name": "Python 3",
   "language": "python",
   "name": "python3"
  },
  "language_info": {
   "codemirror_mode": {
    "name": "ipython",
    "version": 3
   },
   "file_extension": ".py",
   "mimetype": "text/x-python",
   "name": "python",
   "nbconvert_exporter": "python",
   "pygments_lexer": "ipython3",
   "version": "3.6.0"
  }
 },
 "nbformat": 4,
 "nbformat_minor": 2
}
